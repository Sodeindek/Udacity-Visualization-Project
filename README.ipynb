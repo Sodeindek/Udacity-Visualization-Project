{
 "cells": [
  {
   "cell_type": "markdown",
   "id": "f9dd746d",
   "metadata": {},
   "source": [
    "# Part I - (Dataset Exploration Title)\n",
    "## by (Sodeinde Kehinde I.)\n",
    "\n",
    "## Introduction\n",
    "This data set includes information about individual rides made in a bike-sharing system covering the greater San Francisco Bay area.\n",
    "\n",
    "The Data Each trip is anonymized and includes:\n",
    "\n",
    "- Trip Duration (seconds)\n",
    "- Start Time and Date\n",
    "- End Time and Date\n",
    "- Start Station ID\n",
    "- Start Station Name\n",
    "- Start Station Latitude\n",
    "- Start Station Longitude\n",
    "- End Station ID\n",
    "- End Station Name\n",
    "- End Station Latitude\n",
    "- End Station Longitude\n",
    "- Bike ID\n",
    "- User Type (Subscriber or Customer – “Subscriber” = Member or “Customer” = Casual)\n"
   ]
  },
  {
   "cell_type": "markdown",
   "id": "a8b977c1",
   "metadata": {},
   "source": [
    "## Summary of findings\n",
    "\n",
    "According to the exploratory analysis that i have been able to visualized above, the following were observed;\n",
    "\n",
    "- The average ride duration(secs) and median ride duration(secs) for the users is approximately 704 secs and 510 secs respectively \n",
    "- There seem to be an uptrend in the number of riders starting out as the day goes by , but peak hours are 8 in the morning and 5 at night.\n",
    "- Average rider's age is 36 years old\n",
    "- Majority of the users are male, surmounting to approximately 75% of the total population\n",
    "- Weekends are less busier than the rest of the week days\n",
    "- Only a few users are participans of the bike share program\n",
    "- Averagely, customers tends to spend more time riding compare to subscribers.\n",
    "- This is quite surprising, Other and Female ride longer than male on an average.\n",
    "- Male has an higher population using the services all week long, this is not suprising as they make up 75% of the entire users."
   ]
  },
  {
   "cell_type": "markdown",
   "id": "668fc656",
   "metadata": {},
   "source": [
    "## Key Insights for Presentation\n",
    "\n",
    "For this presentation, I focused on the following details. \n",
    "* Correllation between specific numerical parameters.\n",
    "* The relationship between user type and trip duration.\n",
    "* The distribution of start hour"
   ]
  }
 ],
 "metadata": {
  "kernelspec": {
   "display_name": "Python 3",
   "language": "python",
   "name": "python3"
  },
  "language_info": {
   "codemirror_mode": {
    "name": "ipython",
    "version": 3
   },
   "file_extension": ".py",
   "mimetype": "text/x-python",
   "name": "python",
   "nbconvert_exporter": "python",
   "pygments_lexer": "ipython3",
   "version": "3.8.8"
  }
 },
 "nbformat": 4,
 "nbformat_minor": 5
}
